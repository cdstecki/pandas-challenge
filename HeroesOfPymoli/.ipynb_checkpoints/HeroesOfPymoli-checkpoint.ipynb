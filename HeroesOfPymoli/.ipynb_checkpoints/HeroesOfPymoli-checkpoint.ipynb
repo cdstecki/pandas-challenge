{
 "cells": [
  {
   "cell_type": "markdown",
   "metadata": {
    "tags": []
   },
   "source": [
    "### Note\n",
    "* Instructions have been included for each segment. You do not have to follow them exactly, but they are included to help you think through the steps."
   ]
  },
  {
   "cell_type": "code",
   "execution_count": 151,
   "metadata": {},
   "outputs": [],
   "source": [
    "# Dependencies and Setup\n",
    "import pandas as pd\n",
    "import numpy as np\n",
    "\n",
    "# File to Load\n",
    "file_to_load = \"C:/Users/User/Desktop/git-repos/pandas-challenge/HeroesOfPymoli/Resources/purchase_data.csv\"\n",
    "\n",
    "# Read Purchasing File and store into Pandas data frame\n",
    "purchase_data = pd.read_csv(file_to_load)"
   ]
  },
  {
   "cell_type": "markdown",
   "metadata": {},
   "source": [
    "### Player Count\n",
    "* Display the total number of players"
   ]
  },
  {
   "cell_type": "code",
   "execution_count": 152,
   "metadata": {
    "tags": []
   },
   "outputs": [
    {
     "data": {
      "text/html": [
       "<div>\n",
       "<style scoped>\n",
       "    .dataframe tbody tr th:only-of-type {\n",
       "        vertical-align: middle;\n",
       "    }\n",
       "\n",
       "    .dataframe tbody tr th {\n",
       "        vertical-align: top;\n",
       "    }\n",
       "\n",
       "    .dataframe thead th {\n",
       "        text-align: right;\n",
       "    }\n",
       "</style>\n",
       "<table border=\"1\" class=\"dataframe\">\n",
       "  <thead>\n",
       "    <tr style=\"text-align: right;\">\n",
       "      <th></th>\n",
       "      <th>Total Players</th>\n",
       "    </tr>\n",
       "  </thead>\n",
       "  <tbody>\n",
       "    <tr>\n",
       "      <th>0</th>\n",
       "      <td>576</td>\n",
       "    </tr>\n",
       "  </tbody>\n",
       "</table>\n",
       "</div>"
      ],
      "text/plain": [
       "   Total Players\n",
       "0            576"
      ]
     },
     "execution_count": 152,
     "metadata": {},
     "output_type": "execute_result"
    }
   ],
   "source": [
    "# Calculate total unique players\n",
    "player_detail = purchase_data.loc[:, [\"Gender\", \"SN\", \"Age\"]]\n",
    "player_detail = player_detail.drop_duplicates()\n",
    "player_count = player_detail.count()[0]\n",
    "pd.DataFrame({\"Total Players\": [player_count]})"
   ]
  },
  {
   "cell_type": "markdown",
   "metadata": {},
   "source": [
    "### Purchasing Analysis (Total)\n",
    " \n",
    "* Run basic calculations to obtain number of unique items, average price, etc.\n",
    "\n",
    "* Create a summary data frame to hold the results\n",
    "\n",
    "* Optional: give the displayed data cleaner formatting\n",
    "\n",
    "* Display the summary data frame"
   ]
  },
  {
   "cell_type": "code",
   "execution_count": 162,
   "metadata": {},
   "outputs": [
    {
     "data": {
      "text/html": [
       "<style type=\"text/css\">\n",
       "</style>\n",
       "<table id=\"T_c1acc_\">\n",
       "  <thead>\n",
       "    <tr>\n",
       "      <th class=\"blank level0\" >&nbsp;</th>\n",
       "      <th class=\"col_heading level0 col0\" >Number of Unique Items</th>\n",
       "      <th class=\"col_heading level0 col1\" >Average Price</th>\n",
       "      <th class=\"col_heading level0 col2\" >Number of Purchases</th>\n",
       "      <th class=\"col_heading level0 col3\" >Total Revenue</th>\n",
       "    </tr>\n",
       "  </thead>\n",
       "  <tbody>\n",
       "    <tr>\n",
       "      <th id=\"T_c1acc_level0_row0\" class=\"row_heading level0 row0\" >0</th>\n",
       "      <td id=\"T_c1acc_row0_col0\" class=\"data row0 col0\" >179</td>\n",
       "      <td id=\"T_c1acc_row0_col1\" class=\"data row0 col1\" >$3.05</td>\n",
       "      <td id=\"T_c1acc_row0_col2\" class=\"data row0 col2\" >780</td>\n",
       "      <td id=\"T_c1acc_row0_col3\" class=\"data row0 col3\" >$2,379.77</td>\n",
       "    </tr>\n",
       "  </tbody>\n",
       "</table>\n"
      ],
      "text/plain": [
       "<pandas.io.formats.style.Styler at 0x1f125ff47f0>"
      ]
     },
     "execution_count": 162,
     "metadata": {},
     "output_type": "execute_result"
    }
   ],
   "source": [
    "# Run summary calculations\n",
    "unique_items = len(purchase_data[\"Item ID\"].unique())\n",
    "avg_price = purchase_data[\"Price\"].mean()\n",
    "purchase_count = purchase_data[\"Price\"].count()\n",
    "total_revenue = purchase_data[\"Price\"].sum()\n",
    "\n",
    "# Create summary DataFrame\n",
    "summary_table = pd.DataFrame({\"Number of Unique Items\": unique_items,\n",
    "                              \"Average Price\": ([avg_price]),\n",
    "                              \"Number of Purchases\": ([purchase_count]),\n",
    "                              \"Total Revenue\": ([total_revenue])})\n",
    "summary_table.style.format({'Average Price': \"${:,.2f}\",\n",
    "                            'Total Revenue': '${:,.2f}'})"
   ]
  },
  {
   "cell_type": "markdown",
   "metadata": {},
   "source": [
    "### Gender Demographics\n",
    " \n",
    "* Percentage and Count of Male Players\n",
    "\n",
    "* Percentage and Count of Female Players\n",
    "\n",
    "* Percentage and Count of Other / Non-Disclosed"
   ]
  },
  {
   "cell_type": "code",
   "execution_count": 155,
   "metadata": {},
   "outputs": [
    {
     "data": {
      "text/html": [
       "<style type=\"text/css\">\n",
       "</style>\n",
       "<table id=\"T_dfdcf_\">\n",
       "  <thead>\n",
       "    <tr>\n",
       "      <th class=\"blank level0\" >&nbsp;</th>\n",
       "      <th class=\"col_heading level0 col0\" >Total Count</th>\n",
       "      <th class=\"col_heading level0 col1\" >Percentage of Players</th>\n",
       "    </tr>\n",
       "  </thead>\n",
       "  <tbody>\n",
       "    <tr>\n",
       "      <th id=\"T_dfdcf_level0_row0\" class=\"row_heading level0 row0\" >Male</th>\n",
       "      <td id=\"T_dfdcf_row0_col0\" class=\"data row0 col0\" >484</td>\n",
       "      <td id=\"T_dfdcf_row0_col1\" class=\"data row0 col1\" >84.03%</td>\n",
       "    </tr>\n",
       "    <tr>\n",
       "      <th id=\"T_dfdcf_level0_row1\" class=\"row_heading level0 row1\" >Female</th>\n",
       "      <td id=\"T_dfdcf_row1_col0\" class=\"data row1 col0\" >81</td>\n",
       "      <td id=\"T_dfdcf_row1_col1\" class=\"data row1 col1\" >14.06%</td>\n",
       "    </tr>\n",
       "    <tr>\n",
       "      <th id=\"T_dfdcf_level0_row2\" class=\"row_heading level0 row2\" >Other / Non-Disclosed</th>\n",
       "      <td id=\"T_dfdcf_row2_col0\" class=\"data row2 col0\" >11</td>\n",
       "      <td id=\"T_dfdcf_row2_col1\" class=\"data row2 col1\" >1.91%</td>\n",
       "    </tr>\n",
       "  </tbody>\n",
       "</table>\n"
      ],
      "text/plain": [
       "<pandas.io.formats.style.Styler at 0x1f124e0cca0>"
      ]
     },
     "execution_count": 155,
     "metadata": {},
     "output_type": "execute_result"
    }
   ],
   "source": [
    "# Gender Demographics\n",
    "gender_detail_total = player_detail[\"Gender\"].value_counts()\n",
    "gender_detail_percent = gender_detail_total / player_count * 100\n",
    "gender_details = pd.DataFrame({\"Total Count\": gender_detail_total,\n",
    "                               \"Percentage of Players\": gender_detail_percent})\n",
    "gender_details.style.format({\"Percentage of Players\": \"{:.2f}%\"})"
   ]
  },
  {
   "cell_type": "markdown",
   "metadata": {},
   "source": [
    "### Purchasing Analysis (Gender)\n",
    " \n",
    "* Run basic calculations to obtain purchase count, avg. purchase price, avg. purchase total per person etc. by gender\n",
    "\n",
    "* Create a summary data frame to hold the results\n",
    "\n",
    "* Optional: give the displayed data cleaner formatting\n",
    "\n",
    "* Display the summary data frame"
   ]
  },
  {
   "cell_type": "code",
   "execution_count": 156,
   "metadata": {},
   "outputs": [
    {
     "data": {
      "text/html": [
       "<style type=\"text/css\">\n",
       "</style>\n",
       "<table id=\"T_7091c_\">\n",
       "  <thead>\n",
       "    <tr>\n",
       "      <th class=\"blank level0\" >&nbsp;</th>\n",
       "      <th class=\"col_heading level0 col0\" >Purchase Count</th>\n",
       "      <th class=\"col_heading level0 col1\" >Average Purchase Price</th>\n",
       "      <th class=\"col_heading level0 col2\" >Total Purchase Value</th>\n",
       "      <th class=\"col_heading level0 col3\" >Average Purchase Total per Person</th>\n",
       "    </tr>\n",
       "  </thead>\n",
       "  <tbody>\n",
       "    <tr>\n",
       "      <th id=\"T_7091c_level0_row0\" class=\"row_heading level0 row0\" >Female</th>\n",
       "      <td id=\"T_7091c_row0_col0\" class=\"data row0 col0\" >113</td>\n",
       "      <td id=\"T_7091c_row0_col1\" class=\"data row0 col1\" >$3.20</td>\n",
       "      <td id=\"T_7091c_row0_col2\" class=\"data row0 col2\" >$361.94</td>\n",
       "      <td id=\"T_7091c_row0_col3\" class=\"data row0 col3\" >$4.47</td>\n",
       "    </tr>\n",
       "    <tr>\n",
       "      <th id=\"T_7091c_level0_row1\" class=\"row_heading level0 row1\" >Male</th>\n",
       "      <td id=\"T_7091c_row1_col0\" class=\"data row1 col0\" >652</td>\n",
       "      <td id=\"T_7091c_row1_col1\" class=\"data row1 col1\" >$3.02</td>\n",
       "      <td id=\"T_7091c_row1_col2\" class=\"data row1 col2\" >$1,967.64</td>\n",
       "      <td id=\"T_7091c_row1_col3\" class=\"data row1 col3\" >$4.07</td>\n",
       "    </tr>\n",
       "    <tr>\n",
       "      <th id=\"T_7091c_level0_row2\" class=\"row_heading level0 row2\" >Other / Non-Disclosed</th>\n",
       "      <td id=\"T_7091c_row2_col0\" class=\"data row2 col0\" >15</td>\n",
       "      <td id=\"T_7091c_row2_col1\" class=\"data row2 col1\" >$3.35</td>\n",
       "      <td id=\"T_7091c_row2_col2\" class=\"data row2 col2\" >$50.19</td>\n",
       "      <td id=\"T_7091c_row2_col3\" class=\"data row2 col3\" >$4.56</td>\n",
       "    </tr>\n",
       "  </tbody>\n",
       "</table>\n"
      ],
      "text/plain": [
       "<pandas.io.formats.style.Styler at 0x1f12514e280>"
      ]
     },
     "execution_count": 156,
     "metadata": {},
     "output_type": "execute_result"
    }
   ],
   "source": [
    "# Run gender summary calculations\n",
    "gender_purchase_total = purchase_data.groupby([\"Gender\"]).sum()[\"Price\"].rename(\"Total Purchase Value\")\n",
    "gender_purchase_average = purchase_data.groupby([\"Gender\"]).mean()[\"Price\"].rename(\"Average Purchase Price\")\n",
    "gender_purchase_count = purchase_data.groupby([\"Gender\"]).count()[\"Price\"].rename(\"Purchase Count\")\n",
    "avg_purchase_person = gender_purchase_total / gender_details[\"Total Count\"]\n",
    "gender_data = pd.DataFrame({\"Purchase Count\": gender_purchase_count,\n",
    "                            \"Average Purchase Price\": gender_purchase_average,\n",
    "                            \"Total Purchase Value\": gender_purchase_total,\n",
    "                            \"Average Purchase Total per Person\": avg_purchase_person})\n",
    "gender_data.style.format({\"Average Purchase Price\": \"${:,.2f}\",\n",
    "                          \"Total Purchase Value\": \"${:,.2f}\",\n",
    "                          \"Average Purchase Total per Person\": \"${:,.2f}\"})"
   ]
  },
  {
   "cell_type": "markdown",
   "metadata": {},
   "source": [
    "### Age Demographics\n",
    " \n",
    "* Establish bins for ages\n",
    "\n",
    "* Categorize the existing players using the age bins. Hint: use pd.cut()\n",
    "\n",
    "* Calculate the numbers and percentages by age group\n",
    "\n",
    "* Create a summary data frame to hold the results\n",
    "\n",
    "* Optional: round the percentage column to two decimal points\n",
    "\n",
    "* Display Age Demographics Table"
   ]
  },
  {
   "cell_type": "code",
   "execution_count": 157,
   "metadata": {},
   "outputs": [
    {
     "data": {
      "text/html": [
       "<style type=\"text/css\">\n",
       "</style>\n",
       "<table id=\"T_4192c_\">\n",
       "  <thead>\n",
       "    <tr>\n",
       "      <th class=\"blank level0\" >&nbsp;</th>\n",
       "      <th class=\"col_heading level0 col0\" >Total Count</th>\n",
       "      <th class=\"col_heading level0 col1\" >Percentage of Players</th>\n",
       "    </tr>\n",
       "  </thead>\n",
       "  <tbody>\n",
       "    <tr>\n",
       "      <th id=\"T_4192c_level0_row0\" class=\"row_heading level0 row0\" ><10</th>\n",
       "      <td id=\"T_4192c_row0_col0\" class=\"data row0 col0\" >17</td>\n",
       "      <td id=\"T_4192c_row0_col1\" class=\"data row0 col1\" >2.95%</td>\n",
       "    </tr>\n",
       "    <tr>\n",
       "      <th id=\"T_4192c_level0_row1\" class=\"row_heading level0 row1\" >10-14</th>\n",
       "      <td id=\"T_4192c_row1_col0\" class=\"data row1 col0\" >22</td>\n",
       "      <td id=\"T_4192c_row1_col1\" class=\"data row1 col1\" >3.82%</td>\n",
       "    </tr>\n",
       "    <tr>\n",
       "      <th id=\"T_4192c_level0_row2\" class=\"row_heading level0 row2\" >15-19</th>\n",
       "      <td id=\"T_4192c_row2_col0\" class=\"data row2 col0\" >107</td>\n",
       "      <td id=\"T_4192c_row2_col1\" class=\"data row2 col1\" >18.58%</td>\n",
       "    </tr>\n",
       "    <tr>\n",
       "      <th id=\"T_4192c_level0_row3\" class=\"row_heading level0 row3\" >20-24</th>\n",
       "      <td id=\"T_4192c_row3_col0\" class=\"data row3 col0\" >258</td>\n",
       "      <td id=\"T_4192c_row3_col1\" class=\"data row3 col1\" >44.79%</td>\n",
       "    </tr>\n",
       "    <tr>\n",
       "      <th id=\"T_4192c_level0_row4\" class=\"row_heading level0 row4\" >25-29</th>\n",
       "      <td id=\"T_4192c_row4_col0\" class=\"data row4 col0\" >77</td>\n",
       "      <td id=\"T_4192c_row4_col1\" class=\"data row4 col1\" >13.37%</td>\n",
       "    </tr>\n",
       "    <tr>\n",
       "      <th id=\"T_4192c_level0_row5\" class=\"row_heading level0 row5\" >30-34</th>\n",
       "      <td id=\"T_4192c_row5_col0\" class=\"data row5 col0\" >52</td>\n",
       "      <td id=\"T_4192c_row5_col1\" class=\"data row5 col1\" >9.03%</td>\n",
       "    </tr>\n",
       "    <tr>\n",
       "      <th id=\"T_4192c_level0_row6\" class=\"row_heading level0 row6\" >35-39</th>\n",
       "      <td id=\"T_4192c_row6_col0\" class=\"data row6 col0\" >31</td>\n",
       "      <td id=\"T_4192c_row6_col1\" class=\"data row6 col1\" >5.38%</td>\n",
       "    </tr>\n",
       "    <tr>\n",
       "      <th id=\"T_4192c_level0_row7\" class=\"row_heading level0 row7\" >40+</th>\n",
       "      <td id=\"T_4192c_row7_col0\" class=\"data row7 col0\" >12</td>\n",
       "      <td id=\"T_4192c_row7_col1\" class=\"data row7 col1\" >2.08%</td>\n",
       "    </tr>\n",
       "  </tbody>\n",
       "</table>\n"
      ],
      "text/plain": [
       "<pandas.io.formats.style.Styler at 0x1f125fa0d00>"
      ]
     },
     "execution_count": 157,
     "metadata": {},
     "output_type": "execute_result"
    }
   ],
   "source": [
    "# Age Demographics\n",
    "age_bins = [0, 9.90, 14.90, 19.90, 24.90, 29.90, 34.90, 39.90, 99999]\n",
    "age_ranges = [\"<10\", \"10-14\", \"15-19\", \"20-24\", \"25-29\", \"30-34\", \"35-39\", \"40+\"]\n",
    "player_detail[\"Age Ranges\"] = pd.cut(player_detail[\"Age\"], age_bins, labels=age_ranges)\n",
    "\n",
    "# Run Age summary calculations\n",
    "age_detail_total = player_detail[\"Age Ranges\"].value_counts()\n",
    "age_detail_percent = age_detail_total / player_count * 100\n",
    "age_detail = pd.DataFrame({\"Total Count\": age_detail_total,\n",
    "                           \"Percentage of Players\": age_detail_percent})\n",
    "age_detail.sort_index().style.format({\"Percentage of Players\": \"{:,.2f}%\"})\n"
   ]
  },
  {
   "cell_type": "markdown",
   "metadata": {},
   "source": [
    "### Purchasing Analysis (Age)\n",
    " \n",
    "* Bin the purchase_data data frame by age\n",
    "\n",
    "* Run basic calculations to obtain purchase count, avg. purchase price, avg. purchase total per person etc. in the table below\n",
    "\n",
    "* Create a summary data frame to hold the results\n",
    "\n",
    "* Optional: give the displayed data cleaner formatting\n",
    "\n",
    "* Display the summary data frame"
   ]
  },
  {
   "cell_type": "code",
   "execution_count": 160,
   "metadata": {
    "tags": []
   },
   "outputs": [
    {
     "data": {
      "text/html": [
       "<style type=\"text/css\">\n",
       "</style>\n",
       "<table id=\"T_18a99_\">\n",
       "  <thead>\n",
       "    <tr>\n",
       "      <th class=\"blank level0\" >&nbsp;</th>\n",
       "      <th class=\"col_heading level0 col0\" >Purchase Count</th>\n",
       "      <th class=\"col_heading level0 col1\" >Average Purchase Price</th>\n",
       "      <th class=\"col_heading level0 col2\" >Total Purchase Value</th>\n",
       "      <th class=\"col_heading level0 col3\" >Average Purchase Total per Person</th>\n",
       "    </tr>\n",
       "  </thead>\n",
       "  <tbody>\n",
       "    <tr>\n",
       "      <th id=\"T_18a99_level0_row0\" class=\"row_heading level0 row0\" ><10</th>\n",
       "      <td id=\"T_18a99_row0_col0\" class=\"data row0 col0\" >23</td>\n",
       "      <td id=\"T_18a99_row0_col1\" class=\"data row0 col1\" >$3.35</td>\n",
       "      <td id=\"T_18a99_row0_col2\" class=\"data row0 col2\" >$77.13</td>\n",
       "      <td id=\"T_18a99_row0_col3\" class=\"data row0 col3\" >$4.54</td>\n",
       "    </tr>\n",
       "    <tr>\n",
       "      <th id=\"T_18a99_level0_row1\" class=\"row_heading level0 row1\" >10-14</th>\n",
       "      <td id=\"T_18a99_row1_col0\" class=\"data row1 col0\" >28</td>\n",
       "      <td id=\"T_18a99_row1_col1\" class=\"data row1 col1\" >$2.96</td>\n",
       "      <td id=\"T_18a99_row1_col2\" class=\"data row1 col2\" >$82.78</td>\n",
       "      <td id=\"T_18a99_row1_col3\" class=\"data row1 col3\" >$3.76</td>\n",
       "    </tr>\n",
       "    <tr>\n",
       "      <th id=\"T_18a99_level0_row2\" class=\"row_heading level0 row2\" >15-19</th>\n",
       "      <td id=\"T_18a99_row2_col0\" class=\"data row2 col0\" >136</td>\n",
       "      <td id=\"T_18a99_row2_col1\" class=\"data row2 col1\" >$3.04</td>\n",
       "      <td id=\"T_18a99_row2_col2\" class=\"data row2 col2\" >$412.89</td>\n",
       "      <td id=\"T_18a99_row2_col3\" class=\"data row2 col3\" >$3.86</td>\n",
       "    </tr>\n",
       "    <tr>\n",
       "      <th id=\"T_18a99_level0_row3\" class=\"row_heading level0 row3\" >20-24</th>\n",
       "      <td id=\"T_18a99_row3_col0\" class=\"data row3 col0\" >365</td>\n",
       "      <td id=\"T_18a99_row3_col1\" class=\"data row3 col1\" >$3.05</td>\n",
       "      <td id=\"T_18a99_row3_col2\" class=\"data row3 col2\" >$1,114.06</td>\n",
       "      <td id=\"T_18a99_row3_col3\" class=\"data row3 col3\" >$4.32</td>\n",
       "    </tr>\n",
       "    <tr>\n",
       "      <th id=\"T_18a99_level0_row4\" class=\"row_heading level0 row4\" >25-29</th>\n",
       "      <td id=\"T_18a99_row4_col0\" class=\"data row4 col0\" >101</td>\n",
       "      <td id=\"T_18a99_row4_col1\" class=\"data row4 col1\" >$2.90</td>\n",
       "      <td id=\"T_18a99_row4_col2\" class=\"data row4 col2\" >$293.00</td>\n",
       "      <td id=\"T_18a99_row4_col3\" class=\"data row4 col3\" >$3.81</td>\n",
       "    </tr>\n",
       "    <tr>\n",
       "      <th id=\"T_18a99_level0_row5\" class=\"row_heading level0 row5\" >30-34</th>\n",
       "      <td id=\"T_18a99_row5_col0\" class=\"data row5 col0\" >73</td>\n",
       "      <td id=\"T_18a99_row5_col1\" class=\"data row5 col1\" >$2.93</td>\n",
       "      <td id=\"T_18a99_row5_col2\" class=\"data row5 col2\" >$214.00</td>\n",
       "      <td id=\"T_18a99_row5_col3\" class=\"data row5 col3\" >$4.12</td>\n",
       "    </tr>\n",
       "    <tr>\n",
       "      <th id=\"T_18a99_level0_row6\" class=\"row_heading level0 row6\" >35-39</th>\n",
       "      <td id=\"T_18a99_row6_col0\" class=\"data row6 col0\" >41</td>\n",
       "      <td id=\"T_18a99_row6_col1\" class=\"data row6 col1\" >$3.60</td>\n",
       "      <td id=\"T_18a99_row6_col2\" class=\"data row6 col2\" >$147.67</td>\n",
       "      <td id=\"T_18a99_row6_col3\" class=\"data row6 col3\" >$4.76</td>\n",
       "    </tr>\n",
       "    <tr>\n",
       "      <th id=\"T_18a99_level0_row7\" class=\"row_heading level0 row7\" >40+</th>\n",
       "      <td id=\"T_18a99_row7_col0\" class=\"data row7 col0\" >13</td>\n",
       "      <td id=\"T_18a99_row7_col1\" class=\"data row7 col1\" >$2.94</td>\n",
       "      <td id=\"T_18a99_row7_col2\" class=\"data row7 col2\" >$38.24</td>\n",
       "      <td id=\"T_18a99_row7_col3\" class=\"data row7 col3\" >$3.19</td>\n",
       "    </tr>\n",
       "  </tbody>\n",
       "</table>\n"
      ],
      "text/plain": [
       "<pandas.io.formats.style.Styler at 0x1f125fb6a00>"
      ]
     },
     "execution_count": 160,
     "metadata": {},
     "output_type": "execute_result"
    }
   ],
   "source": [
    "# Calculate purchase analysis by age\n",
    "purchase_data[\"Age Ranges\"] = pd.cut(purchase_data[\"Age\"], age_bins, labels=age_ranges)\n",
    "\n",
    "age_purchase_total = purchase_data.groupby([\"Age Ranges\"]).sum()[\"Price\"].rename(\"Total Purchase Value\")\n",
    "age_purchase_average = purchase_data.groupby([\"Age Ranges\"]).mean()[\"Price\"].rename(\"Average Purchase Price\")\n",
    "age_purchase_count = purchase_data.groupby([\"Age Ranges\"]).count()[\"Price\"].rename(\"Purchase Count\")\n",
    "avg_purchase_person = age_purchase_total / age_detail[\"Total Count\"]\n",
    "age_data = pd.DataFrame({\"Purchase Count\": age_purchase_count,\n",
    "                            \"Average Purchase Price\": age_purchase_average,\n",
    "                            \"Total Purchase Value\": age_purchase_total,\n",
    "                            \"Average Purchase Total per Person\": avg_purchase_person})\n",
    "age_data.sort_index().style.format({\"Average Purchase Price\": \"${:,.2f}\",\n",
    "                          \"Total Purchase Value\": \"${:,.2f}\",\n",
    "                          \"Average Purchase Total per Person\": \"${:,.2f}\"})"
   ]
  },
  {
   "cell_type": "markdown",
   "metadata": {},
   "source": [
    "### Top Spenders\n",
    " \n",
    "* Run basic calculations to obtain the results in the table below\n",
    "\n",
    "* Create a summary data frame to hold the results\n",
    "\n",
    "* Sort the total purchase value column in descending order\n",
    "\n",
    "* Optional: give the displayed data cleaner formatting\n",
    "\n",
    "* Display a preview of the summary data frame"
   ]
  },
  {
   "cell_type": "code",
   "execution_count": 169,
   "metadata": {},
   "outputs": [
    {
     "data": {
      "text/html": [
       "<style type=\"text/css\">\n",
       "</style>\n",
       "<table id=\"T_ea0d0_\">\n",
       "  <thead>\n",
       "    <tr>\n",
       "      <th class=\"blank level0\" >&nbsp;</th>\n",
       "      <th class=\"col_heading level0 col0\" >Purchase Count</th>\n",
       "      <th class=\"col_heading level0 col1\" >Average Purchase Price</th>\n",
       "      <th class=\"col_heading level0 col2\" >Total Purchase Value</th>\n",
       "    </tr>\n",
       "    <tr>\n",
       "      <th class=\"index_name level0\" >SN</th>\n",
       "      <th class=\"blank col0\" >&nbsp;</th>\n",
       "      <th class=\"blank col1\" >&nbsp;</th>\n",
       "      <th class=\"blank col2\" >&nbsp;</th>\n",
       "    </tr>\n",
       "  </thead>\n",
       "  <tbody>\n",
       "    <tr>\n",
       "      <th id=\"T_ea0d0_level0_row0\" class=\"row_heading level0 row0\" >Lisosia93</th>\n",
       "      <td id=\"T_ea0d0_row0_col0\" class=\"data row0 col0\" >5</td>\n",
       "      <td id=\"T_ea0d0_row0_col1\" class=\"data row0 col1\" >$3.79</td>\n",
       "      <td id=\"T_ea0d0_row0_col2\" class=\"data row0 col2\" >$18.96</td>\n",
       "    </tr>\n",
       "    <tr>\n",
       "      <th id=\"T_ea0d0_level0_row1\" class=\"row_heading level0 row1\" >Idastidru52</th>\n",
       "      <td id=\"T_ea0d0_row1_col0\" class=\"data row1 col0\" >4</td>\n",
       "      <td id=\"T_ea0d0_row1_col1\" class=\"data row1 col1\" >$3.86</td>\n",
       "      <td id=\"T_ea0d0_row1_col2\" class=\"data row1 col2\" >$15.45</td>\n",
       "    </tr>\n",
       "    <tr>\n",
       "      <th id=\"T_ea0d0_level0_row2\" class=\"row_heading level0 row2\" >Chamjask73</th>\n",
       "      <td id=\"T_ea0d0_row2_col0\" class=\"data row2 col0\" >3</td>\n",
       "      <td id=\"T_ea0d0_row2_col1\" class=\"data row2 col1\" >$4.61</td>\n",
       "      <td id=\"T_ea0d0_row2_col2\" class=\"data row2 col2\" >$13.83</td>\n",
       "    </tr>\n",
       "    <tr>\n",
       "      <th id=\"T_ea0d0_level0_row3\" class=\"row_heading level0 row3\" >Iral74</th>\n",
       "      <td id=\"T_ea0d0_row3_col0\" class=\"data row3 col0\" >4</td>\n",
       "      <td id=\"T_ea0d0_row3_col1\" class=\"data row3 col1\" >$3.41</td>\n",
       "      <td id=\"T_ea0d0_row3_col2\" class=\"data row3 col2\" >$13.62</td>\n",
       "    </tr>\n",
       "    <tr>\n",
       "      <th id=\"T_ea0d0_level0_row4\" class=\"row_heading level0 row4\" >Iskadarya95</th>\n",
       "      <td id=\"T_ea0d0_row4_col0\" class=\"data row4 col0\" >3</td>\n",
       "      <td id=\"T_ea0d0_row4_col1\" class=\"data row4 col1\" >$4.37</td>\n",
       "      <td id=\"T_ea0d0_row4_col2\" class=\"data row4 col2\" >$13.10</td>\n",
       "    </tr>\n",
       "  </tbody>\n",
       "</table>\n"
      ],
      "text/plain": [
       "<pandas.io.formats.style.Styler at 0x1f12607d610>"
      ]
     },
     "execution_count": 169,
     "metadata": {},
     "output_type": "execute_result"
    }
   ],
   "source": [
    "# Run spender calculations\n",
    "spender_purchase_total = purchase_data.groupby([\"SN\"]).sum()[\"Price\"].rename(\"Total Purchase Value\")\n",
    "spender_purchase_average = purchase_data.groupby([\"SN\"]).mean()[\"Price\"].rename(\"Average Purchase Price\")\n",
    "spender_purchase_count = purchase_data.groupby([\"SN\"]).count()[\"Price\"].rename(\"Purchase Count\")\n",
    "spender_detail = pd.DataFrame({\"Purchase Count\": spender_purchase_count,\n",
    "                               \"Average Purchase Price\": spender_purchase_average,\n",
    "                               \"Total Purchase Value\": spender_purchase_total})\n",
    "\n",
    "# Sort top 5 spenders in descending order\n",
    "sorted_spender_detail = spender_detail.sort_values([\"Total Purchase Value\"], ascending=False).head(5)\n",
    "\n",
    "# Display table\n",
    "sorted_spender_detail.style.format({\"Average Purchase Price\": \"${:,.2f}\",\n",
    "                          \"Total Purchase Value\": \"${:,.2f}\",\n",
    "                          \"Purchase Count\": \"{:,}\"})"
   ]
  },
  {
   "cell_type": "markdown",
   "metadata": {},
   "source": [
    "### Most Popular Items\n",
    " \n",
    "* Retrieve the Item ID, Item Name, and Item Price columns\n",
    "\n",
    "* Group by Item ID and Item Name. Perform calculations to obtain purchase count, average item price, and total purchase value\n",
    "\n",
    "* Create a summary data frame to hold the results\n",
    "\n",
    "* Sort the purchase count column in descending order\n",
    "\n",
    "* Optional: give the displayed data cleaner formatting\n",
    "\n",
    "* Display a preview of the summary data frame"
   ]
  },
  {
   "cell_type": "code",
   "execution_count": 172,
   "metadata": {},
   "outputs": [
    {
     "data": {
      "text/html": [
       "<style type=\"text/css\">\n",
       "</style>\n",
       "<table id=\"T_3ffa9_\">\n",
       "  <thead>\n",
       "    <tr>\n",
       "      <th class=\"blank\" >&nbsp;</th>\n",
       "      <th class=\"blank level0\" >&nbsp;</th>\n",
       "      <th class=\"col_heading level0 col0\" >Purchase Count</th>\n",
       "      <th class=\"col_heading level0 col1\" >Item Price</th>\n",
       "      <th class=\"col_heading level0 col2\" >Total Purchase Value</th>\n",
       "    </tr>\n",
       "    <tr>\n",
       "      <th class=\"index_name level0\" >Item ID</th>\n",
       "      <th class=\"index_name level1\" >Item Name</th>\n",
       "      <th class=\"blank col0\" >&nbsp;</th>\n",
       "      <th class=\"blank col1\" >&nbsp;</th>\n",
       "      <th class=\"blank col2\" >&nbsp;</th>\n",
       "    </tr>\n",
       "  </thead>\n",
       "  <tbody>\n",
       "    <tr>\n",
       "      <th id=\"T_3ffa9_level0_row0\" class=\"row_heading level0 row0\" >92</th>\n",
       "      <th id=\"T_3ffa9_level1_row0\" class=\"row_heading level1 row0\" >Final Critic</th>\n",
       "      <td id=\"T_3ffa9_row0_col0\" class=\"data row0 col0\" >13</td>\n",
       "      <td id=\"T_3ffa9_row0_col1\" class=\"data row0 col1\" >$4.61</td>\n",
       "      <td id=\"T_3ffa9_row0_col2\" class=\"data row0 col2\" >$59.99</td>\n",
       "    </tr>\n",
       "    <tr>\n",
       "      <th id=\"T_3ffa9_level0_row1\" class=\"row_heading level0 row1\" >178</th>\n",
       "      <th id=\"T_3ffa9_level1_row1\" class=\"row_heading level1 row1\" >Oathbreaker, Last Hope of the Breaking Storm</th>\n",
       "      <td id=\"T_3ffa9_row1_col0\" class=\"data row1 col0\" >12</td>\n",
       "      <td id=\"T_3ffa9_row1_col1\" class=\"data row1 col1\" >$4.23</td>\n",
       "      <td id=\"T_3ffa9_row1_col2\" class=\"data row1 col2\" >$50.76</td>\n",
       "    </tr>\n",
       "    <tr>\n",
       "      <th id=\"T_3ffa9_level0_row2\" class=\"row_heading level0 row2\" >145</th>\n",
       "      <th id=\"T_3ffa9_level1_row2\" class=\"row_heading level1 row2\" >Fiery Glass Crusader</th>\n",
       "      <td id=\"T_3ffa9_row2_col0\" class=\"data row2 col0\" >9</td>\n",
       "      <td id=\"T_3ffa9_row2_col1\" class=\"data row2 col1\" >$4.58</td>\n",
       "      <td id=\"T_3ffa9_row2_col2\" class=\"data row2 col2\" >$41.22</td>\n",
       "    </tr>\n",
       "    <tr>\n",
       "      <th id=\"T_3ffa9_level0_row3\" class=\"row_heading level0 row3\" >132</th>\n",
       "      <th id=\"T_3ffa9_level1_row3\" class=\"row_heading level1 row3\" >Persuasion</th>\n",
       "      <td id=\"T_3ffa9_row3_col0\" class=\"data row3 col0\" >9</td>\n",
       "      <td id=\"T_3ffa9_row3_col1\" class=\"data row3 col1\" >$3.22</td>\n",
       "      <td id=\"T_3ffa9_row3_col2\" class=\"data row3 col2\" >$28.99</td>\n",
       "    </tr>\n",
       "    <tr>\n",
       "      <th id=\"T_3ffa9_level0_row4\" class=\"row_heading level0 row4\" >108</th>\n",
       "      <th id=\"T_3ffa9_level1_row4\" class=\"row_heading level1 row4\" >Extraction, Quickblade Of Trembling Hands</th>\n",
       "      <td id=\"T_3ffa9_row4_col0\" class=\"data row4 col0\" >9</td>\n",
       "      <td id=\"T_3ffa9_row4_col1\" class=\"data row4 col1\" >$3.53</td>\n",
       "      <td id=\"T_3ffa9_row4_col2\" class=\"data row4 col2\" >$31.77</td>\n",
       "    </tr>\n",
       "  </tbody>\n",
       "</table>\n"
      ],
      "text/plain": [
       "<pandas.io.formats.style.Styler at 0x1f126083400>"
      ]
     },
     "execution_count": 172,
     "metadata": {},
     "output_type": "execute_result"
    }
   ],
   "source": [
    "# Retrieve item data\n",
    "item_data = purchase_data.loc[:,[\"Item ID\", \"Item Name\", \"Price\"]]\n",
    "\n",
    "# Run item calculations\n",
    "item_purchase_total = item_data.groupby([\"Item ID\", \"Item Name\"]).sum()[\"Price\"].rename(\"Total Purchase Value\")\n",
    "item_purchase_average = item_data.groupby([\"Item ID\", \"Item Name\"]).mean()[\"Price\"].rename(\"Item Price\")\n",
    "item_purchase_count = item_data.groupby([\"Item ID\", \"Item Name\"]).count()[\"Price\"].rename(\"Purchase Count\")\n",
    "\n",
    "# Create Summary Data Frame\n",
    "item_detail = pd.DataFrame({\"Purchase Count\": item_purchase_count,\n",
    "                            \"Item Price\": item_purchase_average,\n",
    "                            \"Total Purchase Value\": item_purchase_total})\n",
    "\n",
    "# Sort top 5 item in descending order\n",
    "sorted_item_detail = item_detail.sort_values([\"Purchase Count\"], ascending=False).head(5)\n",
    "\n",
    "# Display table\n",
    "sorted_item_detail.style.format({\"Item Price\": \"${:,.2f}\",\n",
    "                          \"Total Purchase Value\": \"${:,.2f}\",\n",
    "                          \"Purchase Count\": \"{:,}\"})"
   ]
  },
  {
   "cell_type": "markdown",
   "metadata": {},
   "source": [
    "### Most Profitable Items\n",
    " \n",
    "* Sort the above table by total purchase value in descending order\n",
    "\n",
    "* Optional: give the displayed data cleaner formatting\n",
    "\n",
    "* Display a preview of the data frame"
   ]
  },
  {
   "cell_type": "code",
   "execution_count": 174,
   "metadata": {},
   "outputs": [
    {
     "data": {
      "text/html": [
       "<style type=\"text/css\">\n",
       "</style>\n",
       "<table id=\"T_d5f74_\">\n",
       "  <thead>\n",
       "    <tr>\n",
       "      <th class=\"blank\" >&nbsp;</th>\n",
       "      <th class=\"blank level0\" >&nbsp;</th>\n",
       "      <th class=\"col_heading level0 col0\" >Purchase Count</th>\n",
       "      <th class=\"col_heading level0 col1\" >Item Price</th>\n",
       "      <th class=\"col_heading level0 col2\" >Total Purchase Value</th>\n",
       "    </tr>\n",
       "    <tr>\n",
       "      <th class=\"index_name level0\" >Item ID</th>\n",
       "      <th class=\"index_name level1\" >Item Name</th>\n",
       "      <th class=\"blank col0\" >&nbsp;</th>\n",
       "      <th class=\"blank col1\" >&nbsp;</th>\n",
       "      <th class=\"blank col2\" >&nbsp;</th>\n",
       "    </tr>\n",
       "  </thead>\n",
       "  <tbody>\n",
       "    <tr>\n",
       "      <th id=\"T_d5f74_level0_row0\" class=\"row_heading level0 row0\" >92</th>\n",
       "      <th id=\"T_d5f74_level1_row0\" class=\"row_heading level1 row0\" >Final Critic</th>\n",
       "      <td id=\"T_d5f74_row0_col0\" class=\"data row0 col0\" >13</td>\n",
       "      <td id=\"T_d5f74_row0_col1\" class=\"data row0 col1\" >$4.61</td>\n",
       "      <td id=\"T_d5f74_row0_col2\" class=\"data row0 col2\" >$59.99</td>\n",
       "    </tr>\n",
       "    <tr>\n",
       "      <th id=\"T_d5f74_level0_row1\" class=\"row_heading level0 row1\" >178</th>\n",
       "      <th id=\"T_d5f74_level1_row1\" class=\"row_heading level1 row1\" >Oathbreaker, Last Hope of the Breaking Storm</th>\n",
       "      <td id=\"T_d5f74_row1_col0\" class=\"data row1 col0\" >12</td>\n",
       "      <td id=\"T_d5f74_row1_col1\" class=\"data row1 col1\" >$4.23</td>\n",
       "      <td id=\"T_d5f74_row1_col2\" class=\"data row1 col2\" >$50.76</td>\n",
       "    </tr>\n",
       "    <tr>\n",
       "      <th id=\"T_d5f74_level0_row2\" class=\"row_heading level0 row2\" >82</th>\n",
       "      <th id=\"T_d5f74_level1_row2\" class=\"row_heading level1 row2\" >Nirvana</th>\n",
       "      <td id=\"T_d5f74_row2_col0\" class=\"data row2 col0\" >9</td>\n",
       "      <td id=\"T_d5f74_row2_col1\" class=\"data row2 col1\" >$4.90</td>\n",
       "      <td id=\"T_d5f74_row2_col2\" class=\"data row2 col2\" >$44.10</td>\n",
       "    </tr>\n",
       "    <tr>\n",
       "      <th id=\"T_d5f74_level0_row3\" class=\"row_heading level0 row3\" >145</th>\n",
       "      <th id=\"T_d5f74_level1_row3\" class=\"row_heading level1 row3\" >Fiery Glass Crusader</th>\n",
       "      <td id=\"T_d5f74_row3_col0\" class=\"data row3 col0\" >9</td>\n",
       "      <td id=\"T_d5f74_row3_col1\" class=\"data row3 col1\" >$4.58</td>\n",
       "      <td id=\"T_d5f74_row3_col2\" class=\"data row3 col2\" >$41.22</td>\n",
       "    </tr>\n",
       "    <tr>\n",
       "      <th id=\"T_d5f74_level0_row4\" class=\"row_heading level0 row4\" >103</th>\n",
       "      <th id=\"T_d5f74_level1_row4\" class=\"row_heading level1 row4\" >Singed Scalpel</th>\n",
       "      <td id=\"T_d5f74_row4_col0\" class=\"data row4 col0\" >8</td>\n",
       "      <td id=\"T_d5f74_row4_col1\" class=\"data row4 col1\" >$4.35</td>\n",
       "      <td id=\"T_d5f74_row4_col2\" class=\"data row4 col2\" >$34.80</td>\n",
       "    </tr>\n",
       "  </tbody>\n",
       "</table>\n"
      ],
      "text/plain": [
       "<pandas.io.formats.style.Styler at 0x1f1260be5e0>"
      ]
     },
     "execution_count": 174,
     "metadata": {},
     "output_type": "execute_result"
    }
   ],
   "source": [
    "# Sort top 5 item in descending order\n",
    "sorted_item_detail = item_detail.sort_values([\"Total Purchase Value\"], ascending=False).head(5)\n",
    "\n",
    "# Display table\n",
    "sorted_item_detail.style.format({\"Item Price\": \"${:,.2f}\",\n",
    "                          \"Total Purchase Value\": \"${:,.2f}\",\n",
    "                          \"Purchase Count\": \"{:,}\"})"
   ]
  }
 ],
 "metadata": {
  "anaconda-cloud": {},
  "kernel_info": {
   "name": "python3"
  },
  "kernelspec": {
   "display_name": "Python 3 (ipykernel)",
   "language": "python",
   "name": "python3"
  },
  "language_info": {
   "codemirror_mode": {
    "name": "ipython",
    "version": 3
   },
   "file_extension": ".py",
   "mimetype": "text/x-python",
   "name": "python",
   "nbconvert_exporter": "python",
   "pygments_lexer": "ipython3",
   "version": "3.9.7"
  },
  "latex_envs": {
   "LaTeX_envs_menu_present": true,
   "autoclose": false,
   "autocomplete": true,
   "bibliofile": "biblio.bib",
   "cite_by": "apalike",
   "current_citInitial": 1,
   "eqLabelWithNumbers": true,
   "eqNumInitial": 1,
   "hotkeys": {
    "equation": "Ctrl-E",
    "itemize": "Ctrl-I"
   },
   "labels_anchors": false,
   "latex_user_defs": false,
   "report_style_numbering": false,
   "user_envs_cfg": false
  },
  "nteract": {
   "version": "0.2.0"
  }
 },
 "nbformat": 4,
 "nbformat_minor": 4
}
